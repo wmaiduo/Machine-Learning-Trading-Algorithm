{
 "cells": [
  {
   "cell_type": "code",
   "execution_count": 1,
   "id": "47729eab",
   "metadata": {},
   "outputs": [
    {
     "ename": "ModuleNotFoundError",
     "evalue": "No module named 'sklearn'",
     "output_type": "error",
     "traceback": [
      "\u001b[1;31m---------------------------------------------------------------------------\u001b[0m",
      "\u001b[1;31mModuleNotFoundError\u001b[0m                       Traceback (most recent call last)",
      "\u001b[1;32m<ipython-input-1-8808c3158291>\u001b[0m in \u001b[0;36m<module>\u001b[1;34m\u001b[0m\n\u001b[0;32m      1\u001b[0m \u001b[1;32mimport\u001b[0m \u001b[0mpandas\u001b[0m \u001b[1;32mas\u001b[0m \u001b[0mpd\u001b[0m\u001b[1;33m\u001b[0m\u001b[1;33m\u001b[0m\u001b[0m\n\u001b[0;32m      2\u001b[0m \u001b[1;32mimport\u001b[0m \u001b[0mnumpy\u001b[0m \u001b[1;32mas\u001b[0m \u001b[0mnp\u001b[0m\u001b[1;33m\u001b[0m\u001b[1;33m\u001b[0m\u001b[0m\n\u001b[1;32m----> 3\u001b[1;33m \u001b[1;32mimport\u001b[0m \u001b[0msklearn\u001b[0m\u001b[1;33m\u001b[0m\u001b[1;33m\u001b[0m\u001b[0m\n\u001b[0m\u001b[0;32m      4\u001b[0m \u001b[1;32mfrom\u001b[0m \u001b[0msklearn\u001b[0m \u001b[1;32mimport\u001b[0m \u001b[0mlinear_model\u001b[0m\u001b[1;33m\u001b[0m\u001b[1;33m\u001b[0m\u001b[0m\n\u001b[0;32m      5\u001b[0m \u001b[1;32mfrom\u001b[0m \u001b[0msklearn\u001b[0m\u001b[1;33m.\u001b[0m\u001b[0mutils\u001b[0m \u001b[1;32mimport\u001b[0m \u001b[0mshuffle\u001b[0m\u001b[1;33m\u001b[0m\u001b[1;33m\u001b[0m\u001b[0m\n",
      "\u001b[1;31mModuleNotFoundError\u001b[0m: No module named 'sklearn'"
     ]
    }
   ],
   "source": [
    "import pandas as pd\n",
    "import numpy as np\n",
    "import sklearn\n",
    "from sklearn import linear_model\n",
    "from sklearn.utils import shuffle\n",
    "import matplotlib.pyplot as pyplot\n",
    "import matplotlib.patches as mpatches\n",
    "import pickle"
   ]
  },
  {
   "cell_type": "code",
   "execution_count": null,
   "id": "3ed512f4",
   "metadata": {},
   "outputs": [],
   "source": [
    "data_origin = pd.read_csv(\"Apple5YrData.csv\", sep=\",\")\n",
    "data = data_origin.copy()\n",
    "\n",
    "data['Close/Last'] = data['Close/Last'].str.replace('$', '')\n",
    "data['Open'] = data['Open'].str.replace('$', '')\n",
    "data['High'] = data['High'].str.replace('$', '')\n",
    "data['Low'] = data['Low'].str.replace('$', '')\n",
    "data['Close/Last'] = data['Close/Last'].astype('float')\n",
    "data['Open'] = data['Open'].astype('float')\n",
    "data['High'] = data['High'].astype('float')\n",
    "data['Low'] = data['Low'].astype('float')\n",
    "\n",
    "noCloseData = np.array(data.drop(['Close/Last', 'Date'], 1))\n",
    "closeData = np.array(data['Close/Last'])\n",
    "\n",
    "predictionDays = 60\n",
    "predictPrice = []\n",
    "\n",
    "#train model for every sixty passed days and use the current day data to predict next day's stock price\n",
    "for i in range(0, len(closeData) - predictionDays - 1):\n",
    "    x_train = noCloseData[i:i + predictionDays]\n",
    "    y_train = closeData[i + 1:i + predictionDays + 1]\n",
    "    linear = linear_model.LinearRegression()\n",
    "    linear.fit(x_train, y_train)\n",
    "    x_test = noCloseData[i + predictionDays + 1].reshape(1, -1)\n",
    "    prediction = linear.predict(x_test)\n",
    "    predictPrice.append(prediction)\n",
    "\n",
    "actualPrice = closeData[predictionDays + 1: len(closeData)]\n",
    "\n",
    "#plot\n",
    "pyplot.plot(actualPrice, color=\"black\", label=f\"Actual Price\")\n",
    "pyplot.plot(predictPrice, color=\"red\", label=f\"Predict Price\")\n",
    "blackPatch = mpatches.Patch(color=\"black\", label=\"Actual Price\")\n",
    "redPatch = mpatches.Patch(color=\"red\", label=\"Predicted Price\")\n",
    "pyplot.legend(handles=[blackPatch, redPatch])\n",
    "pyplot.ylabel(\"Closing Price\")\n",
    "pyplot.xlabel(\"Days Passed\")\n",
    "pyplot.show()\n"
   ]
  }
 ],
 "metadata": {
  "kernelspec": {
   "display_name": "Python 3",
   "language": "python",
   "name": "python3"
  },
  "language_info": {
   "codemirror_mode": {
    "name": "ipython",
    "version": 3
   },
   "file_extension": ".py",
   "mimetype": "text/x-python",
   "name": "python",
   "nbconvert_exporter": "python",
   "pygments_lexer": "ipython3",
   "version": "3.8.2"
  }
 },
 "nbformat": 4,
 "nbformat_minor": 5
}
