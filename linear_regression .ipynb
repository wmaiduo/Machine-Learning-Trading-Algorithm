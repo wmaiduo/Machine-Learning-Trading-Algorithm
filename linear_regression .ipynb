import pandas as pd
import numpy as np
import sklearn
from sklearn import linear_model
from sklearn.utils import shuffle
import matplotlib.pyplot as pyplot
import matplotlib.patches as mpatches
import pickle

data_origin = pd.read_csv("Apple5YrData.csv", sep=",")
data = data_origin.copy()

data['Close/Last'] = data['Close/Last'].str.replace('$', '')
data['Open'] = data['Open'].str.replace('$', '')
data['High'] = data['High'].str.replace('$', '')
data['Low'] = data['Low'].str.replace('$', '')
data['Close/Last'] = data['Close/Last'].astype('float')
data['Open'] = data['Open'].astype('float')
data['High'] = data['High'].astype('float')
data['Low'] = data['Low'].astype('float')

noCloseData = np.array(data.drop(['Close/Last', 'Date'], 1))
closeData = np.array(data['Close/Last'])

predictionDays = 60
predictPrice = []

#train model for every sixty passed days and use the current day data to predict next day's stock price
for i in range(0, len(closeData) - predictionDays - 1):
    x_train = noCloseData[i:i + predictionDays]
    y_train = closeData[i + 1:i + predictionDays + 1]
    linear = linear_model.LinearRegression()
    linear.fit(x_train, y_train)
    x_test = noCloseData[i + predictionDays + 1].reshape(1, -1)
    prediction = linear.predict(x_test)
    predictPrice.append(prediction)

actualPrice = closeData[predictionDays + 1: len(closeData)]

#plot
pyplot.plot(actualPrice, color="black", label=f"Actual Price")
pyplot.plot(predictPrice, color="red", label=f"Predict Price")
blackPatch = mpatches.Patch(color="black", label="Actual Price")
redPatch = mpatches.Patch(color="red", label="Predicted Price")
pyplot.legend(handles=[blackPatch, redPatch])
pyplot.ylabel("Closing Price")
pyplot.xlabel("Days Passed")
pyplot.show()





